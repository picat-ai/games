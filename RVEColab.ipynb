{
  "cells": [
    {
      "cell_type": "code",
      "execution_count": null,
      "metadata": {
        "id": "vJ2xA_TgT80X"
      },
      "outputs": [],
      "source": [
        "# File Settings\n",
        "INPUT_FILE = \"input.mp4\"\n",
        "\n",
        "# this is the output file that will me exported to a \"RVE\" folder under the \"My Drive\" folder in Google Drive. WILL OVERWRITE ANY EXISTING FILES\n",
        "OUTPUT_FILE = \"output.mkv\" # mkv is recommended, as it supports more codecs {mkv, mp4, avi, mov}\n",
        "\n",
        "KILL_RUNTIME_AFTER_RENDER = True # Terminates the runtime to save on your colab compute. If copying to drive fails, manual intervention is required to download files.\n",
        "# Interpolate Settings\n",
        "\n",
        "# https://github.com/TNTwise/real-video-enhancer-models/releases/tag/models/ is where all model files for RVE are stored\n",
        "# you can download them from there, or try custom models from https://openmodeldb.info/\n",
        "INTERPOLATE = True # {True, False}\n",
        "INTERPOLATE_FACTOR = 2\n",
        "SCENE_DETECT_METHOD = \"pyscenedetect\" # {pyscenedetect, none}\n",
        "SCENE_DETECT_SENSATIVITY = \"3.5\" # {0 - 9.9} lower is more sensative\n",
        "\n",
        "\"\"\"\n",
        "Internal Interpolate Models:\n",
        "rife4.6.pkl - Speed\n",
        "rife4.7.pkl - Smoothness\n",
        "rife4.18.pkl - IRL\n",
        "rife4.22.pkl - Animation\n",
        "rife4.25.pkl - General\n",
        "GMFSS.pkl - Animation\n",
        "GMFSS_PRO.pkl - Animation\n",
        "GIMMVFI_RAFT.pth - IRL\n",
        "\"\"\"\n",
        "INTERPOLATE_MODEL = \"rife4.25.pkl\" # {Internal model, (link to model path)}\n",
        "\n",
        "\n",
        "# Upscale Settings\n",
        "UPSCALE = True # {True, False}\n",
        "\"\"\"\n",
        "4xNomos8k_span_otf_weak.pth - Realistic 4x High Quality Input\n",
        "4xNomos8k_span_otf_medium.pth - Realistic 4x Medium Quality Input\n",
        "4xNomos8k_span_otf_strong.pth - Realistic 4x Low Quality Input\n",
        "2x_BHI_SpanPlusDynamic_Light.pth - Realistic 2x High Quality Input (pytorch only, experimental)\n",
        "\n",
        "2x_ModernSpanimationV2.pth - Animation 2x\n",
        "2x_ModernSpanimationV3.pth - Animation 2x (pytorch only, experimental)\n",
        "2x_AnimeJaNai_V2_Compact_36k.pth - Animation 2x\n",
        "2x_AnimeJaNai_HD_V3_Sharp1_Compact_430k.pth - Animation 2x\n",
        "up2x-latest-conservative.pth - Animation 2x (pytorch only, slow)\n",
        "up3x-latest-conservative.pth - Animation 3x (pytorch only, slow)\n",
        "up4x-latest-conservative.pth - Animation 4x (pytorch only, slow)\n",
        "\"\"\"\n",
        "UPSCALE_MODEL = \"4xNomos8k_span_otf_medium.pth\" # {(link to model path)}\n",
        "\n",
        "# FFMpeg Settings\n",
        "VIDEO_ENCODER = \"libx264\" # {libx264,libx265,vp9,av1,prores,ffv1,x264_vulkan,x264_nvenc,x265_nvenc}\n",
        "AUDIO_ENCODER = \"copy_audio\" # {aac,libmp3lame,opus,copy_audio}\n",
        "SUBTITLE_ENCODER = \"copy_subtitle\" # {srt,ass,webvtt,copy_subtitle}\n",
        "\n",
        "# Backend Settings\n",
        "BACKEND = \"pytorch\" # {pytorch, tensorrt} TensorRT is fastest, but takes a long time to install deps.\n"
      ]
    },
    {
      "cell_type": "code",
      "execution_count": null,
      "metadata": {
        "id": "wTcZMNTeT80a"
      },
      "outputs": [],
      "source": [
        "# will move output file to drive when done for permident storage\n",
        "import os\n",
        "import subprocess\n",
        "import shutil\n",
        "from google.colab import drive, output\n",
        "\n",
        "# mount drive and move output there for permadent storage\n",
        "\n",
        "drive.mount('/content/drive')"
      ]
    },
    {
      "cell_type": "code",
      "execution_count": null,
      "metadata": {
        "id": "7i7UVVPrHpdW"
      },
      "outputs": [],
      "source": [
        "!rm -rf real-video-enhancer/\n",
        "!git clone https://github.com/tntwise/real-video-enhancer --branch 2.2.1"
      ]
    },
    {
      "cell_type": "code",
      "execution_count": null,
      "metadata": {
        "id": "7DAndfQ0KIbx"
      },
      "outputs": [],
      "source": [
        "import os\n",
        "!mkdir real-video-enhancer/models/\n",
        "origdir = os.getcwd()\n",
        "os.chdir(\"real-video-enhancer/models/\")\n",
        "\n",
        "def has_model(model: str):\n",
        "    return model and model.lower() != \"none\"\n",
        "\n",
        "def download_model(model: str):\n",
        "    os.system(f\"wget https://github.com/TNTwise/real-video-enhancer-models/releases/download/models/{model}\")\n",
        "\n",
        "\n",
        "\n",
        "# get interpolate model by extracting the end of the link\n",
        "def download_external_model(model_link : str):\n",
        "        print(\"Downloading Model\")\n",
        "        os.system(f\"wget {model_link}\")\n",
        "        model = model_link.split(r'/')[-1]\n",
        "        return model\n",
        "\n",
        "\n",
        "if INTERPOLATE:\n",
        "    if \"http\" in INTERPOLATE_MODEL:\n",
        "        UPSCALE_MODEL = download_external_model(INTERPOLATE_MODEL)\n",
        "    else:\n",
        "        download_model(INTERPOLATE_MODEL)\n",
        "if UPSCALE:\n",
        "\n",
        "    if \"http\" in UPSCALE_MODEL:\n",
        "        print(\"up\")\n",
        "        UPSCALE_MODEL = download_external_model(UPSCALE_MODEL)\n",
        "    else:\n",
        "        download_model(UPSCALE_MODEL)\n",
        "\n",
        "\n",
        "os.chdir(origdir)\n",
        "\n"
      ]
    },
    {
      "cell_type": "code",
      "execution_count": null,
      "metadata": {
        "id": "NhG0D85MIXRA"
      },
      "outputs": [],
      "source": [
        "if BACKEND.lower() == 'tensorrt':\n",
        "    !wget https://github.com/astral-sh/python-build-standalone/releases/download/20250317/cpython-3.12.9+20250317-x86_64-unknown-linux-gnu-install_only.tar.gz\n",
        "    !tar xvf cpython-3.12.9+20250317-x86_64-unknown-linux-gnu-install_only.tar.gz\n",
        "    !./python/bin/python3 -m pip install  --extra-index-url https://download.pytorch.org/whl/cu126 -r real-video-enhancer/backend/requirements.txt # only install if using tensorrt\n",
        "\n",
        "!mkdir bin/ && cd bin && wget https://github.com/TNTwise/real-video-enhancer-models/releases/download/ffmpeg-colab/ffmpeg && chmod +x ffmpeg"
      ]
    },
    {
      "cell_type": "code",
      "execution_count": null,
      "metadata": {
        "id": "VzEEIflBLpAG"
      },
      "outputs": [],
      "source": [
        "#example upscale/denoise command\n",
        "# It is recommended to use  --video_encoder_preset x264_nvenc\n",
        "def build_backend_command() -> str:\n",
        "    command = (('python3 real-video-enhancer/backend/rve-backend.py' if BACKEND == \"pytorch\" else './python/bin/python3 real-video-enhancer/backend/rve-backend.py')\n",
        "               + f' -i \"{INPUT_FILE}\"'\n",
        "               + f' -o \"{OUTPUT_FILE}\"'\n",
        "               + f' -b {BACKEND} '\n",
        "               + f' --video_encoder_preset {VIDEO_ENCODER}'\n",
        "               + f' --audio_encoder_preset {AUDIO_ENCODER}'\n",
        "               + f' --subtitle_encoder_preset {SUBTITLE_ENCODER}')\n",
        "    if UPSCALE_MODEL and UPSCALE:\n",
        "        command += f\" --upscale_model real-video-enhancer/models/{UPSCALE_MODEL} \"\n",
        "    if INTERPOLATE_MODEL and INTERPOLATE:\n",
        "        command += f\" --interpolate_model real-video-enhancer/models/{INTERPOLATE_MODEL} \"\n",
        "        command += f\" --interpolate_factor {INTERPOLATE_FACTOR} \"\n",
        "        command += f\" --scene_detect_method {SCENE_DETECT_METHOD} \"\n",
        "        command += f\" --scene_detect_threshold {SCENE_DETECT_SENSATIVITY} \"\n",
        "\n",
        "    return command\n",
        "\n",
        "with open(\"command.sh\", \"w\") as f:\n",
        "  f.write(build_backend_command())\n",
        "\n",
        "!bash command.sh"
      ]
    },
    {
      "cell_type": "code",
      "execution_count": null,
      "metadata": {
        "id": "dCKbGtHZT80e"
      },
      "outputs": [],
      "source": [
        "# Source file path in Colab\n",
        "source_path = f'/content/{OUTPUT_FILE}'\n",
        "\n",
        "# Destination path on Google Drive (root directory)\n",
        "destination_path = f'/content/drive/My Drive/RVE/{OUTPUT_FILE}'\n",
        "if not os.path.exists(os.path.dirname(destination_path)):\n",
        "  os.mkdir(os.path.dirname(destination_path))\n",
        "\n",
        "# Move the file\n",
        "try:\n",
        "  shutil.copy(source_path, destination_path)\n",
        "except Exception as e:\n",
        "  print(f\"Copying to drive failed! {e}\\nPlease download any files that have correctly rendered before terminating the runtime!.\")\n",
        "  input(\"Press enter to terminate the runtime.\")\n",
        "\n",
        "  output.eval_js('google.colab.kernel.disconnect()')\n",
        "  os.kill(os.getpid(), 9)\n",
        "\n",
        "if KILL_RUNTIME_AFTER_RENDER:\n",
        "\n",
        "  # kill the runtime\n",
        "  output.eval_js('google.colab.kernel.disconnect()')\n",
        "  os.kill(os.getpid(), 9)"
      ]
    }
  ],
  "metadata": {
    "accelerator": "GPU",
    "colab": {
      "gpuType": "T4",
      "provenance": []
    },
    "kernelspec": {
      "display_name": "Python 3",
      "name": "python3"
    },
    "language_info": {
      "codemirror_mode": {
        "name": "ipython",
        "version": 3
      },
      "file_extension": ".py",
      "mimetype": "text/x-python",
      "name": "python",
      "nbconvert_exporter": "python",
      "pygments_lexer": "ipython3",
      "version": "3.11.9"
    }
  },
  "nbformat": 4,
  "nbformat_minor": 0
}